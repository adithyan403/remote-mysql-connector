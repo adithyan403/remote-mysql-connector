{
  "nbformat": 4,
  "nbformat_minor": 0,
  "metadata": {
    "colab": {
      "provenance": []
    },
    "kernelspec": {
      "name": "python3",
      "display_name": "Python 3"
    },
    "language_info": {
      "name": "python"
    }
  },
  "cells": [
    {
      "cell_type": "code",
      "execution_count": null,
      "metadata": {
        "id": "bGkCd2fFgLeL"
      },
      "outputs": [],
      "source": [
        "import mysql.connector as sqltor\n",
        "print(\"****************Welcome to the remote mysql connector agent**********************\")\n",
        "while True:\n",
        "  users=int(input(\"Enter the users limit\"))\n",
        "  for i in range(users):\n",
        "    mycon=sqltor.connect()\n",
        "  \n"
      ]
    }
  ]
}